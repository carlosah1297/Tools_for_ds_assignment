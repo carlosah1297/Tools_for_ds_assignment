{
 "cells": [
  {
   "cell_type": "markdown",
   "id": "0dfad35e",
   "metadata": {},
   "source": [
    "# Data Science Tools and Ecosystem\n",
    "\n",
    "In this notebook, Data Science Tools and Ecosystem are summarized."
   ]
  },
  {
   "cell_type": "markdown",
   "id": "234e1692",
   "metadata": {},
   "source": [
    "## Author\n",
    "Carlos Hernandez"
   ]
  },
  {
   "cell_type": "markdown",
   "id": "ffc16eb5",
   "metadata": {},
   "source": [
    "<b>Objectives<b>\n",
    "- List popular data science languages\n",
    "- basic arithmetic functions\n",
    "- create a table using markdown\n",
    "- using comments to describe code"
   ]
  },
  {
   "cell_type": "markdown",
   "id": "5c66ff4e",
   "metadata": {},
   "source": [
    "Some of the popular languages that Data Scientists use are:\n",
    "- Caret in R\n",
    "- ScikitLearn in Python\n",
    "- GGplot to visualize in R\n",
    "- TensorFlow in Python\n",
    "- Pandas in Python"
   ]
  },
  {
   "cell_type": "markdown",
   "id": "523851fe",
   "metadata": {},
   "source": [
    "| Data Science Tools |\n",
    "| --- |\n",
    "| Jupyter Notebook |\n",
    "| Spyder |\n",
    "| R Studio |"
   ]
  },
  {
   "cell_type": "markdown",
   "id": "747f2c71",
   "metadata": {},
   "source": [
    "### Below are a few examples of evaluating arithmetic expressions in Python"
   ]
  },
  {
   "cell_type": "code",
   "execution_count": 1,
   "id": "cf9e32d2",
   "metadata": {},
   "outputs": [
    {
     "data": {
      "text/plain": [
       "17"
      ]
     },
     "execution_count": 1,
     "metadata": {},
     "output_type": "execute_result"
    }
   ],
   "source": [
    "(3*4)+5 #This a simple arithmetic expression to mutiply then add integers"
   ]
  },
  {
   "cell_type": "code",
   "execution_count": 2,
   "id": "e7ed246a",
   "metadata": {},
   "outputs": [
    {
     "data": {
      "text/plain": [
       "3.3333333333333335"
      ]
     },
     "execution_count": 2,
     "metadata": {},
     "output_type": "execute_result"
    }
   ],
   "source": [
    "200/60 #This will convert 200 minutes to hours by diving by 60"
   ]
  },
  {
   "cell_type": "code",
   "execution_count": null,
   "id": "9482651b",
   "metadata": {},
   "outputs": [],
   "source": []
  }
 ],
 "metadata": {
  "kernelspec": {
   "display_name": "Python 3",
   "language": "python",
   "name": "python3"
  },
  "language_info": {
   "codemirror_mode": {
    "name": "ipython",
    "version": 3
   },
   "file_extension": ".py",
   "mimetype": "text/x-python",
   "name": "python",
   "nbconvert_exporter": "python",
   "pygments_lexer": "ipython3",
   "version": "3.8.8"
  }
 },
 "nbformat": 4,
 "nbformat_minor": 5
}
